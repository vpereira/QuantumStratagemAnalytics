{
 "cells": [
  {
   "cell_type": "code",
   "execution_count": null,
   "metadata": {},
   "outputs": [],
   "source": [
    "from openai import OpenAI\n"
   ]
  },
  {
   "cell_type": "code",
   "execution_count": null,
   "metadata": {},
   "outputs": [],
   "source": [
    "import os\n",
    "from dotenv import load_dotenv\n",
    "\n",
    "load_dotenv()"
   ]
  },
  {
   "cell_type": "code",
   "execution_count": null,
   "metadata": {},
   "outputs": [],
   "source": [
    "# Function to create a prompt using OpenAI API\n",
    "def openai_prompt(rules, prompt):\n",
    "    client = OpenAI()\n",
    "    response = client.chat.completions.create(\n",
    "        # model=\"gpt-4\",  # Use \"gpt-4\" or the specific model name for GPT-4 if it's available\n",
    "        model=\"gpt-3.5-turbo\",\n",
    "        messages=[\n",
    "            {\"role\": \"system\", \"content\": rules},\n",
    "            {\"role\": \"user\", \"content\": prompt}\n",
    "        ]\n",
    "    )\n",
    "    return response.choices[0].message['content']  # Assuming you want the content of the response\n"
   ]
  },
  {
   "cell_type": "code",
   "execution_count": null,
   "metadata": {},
   "outputs": [],
   "source": [
    "def create_prompt(prompt):\n",
    "    return f\"Given the subscription rules, can you check if the following organization is compliant? {prompt} Is this organization compliant?\"\n",
    "\n",
    "rules = \"\"\"\n",
    "Each physical server, including virtualization hosts, must have at least one subscription, which can be either low density or high density.\n",
    "- Low density subscriptions cover:\n",
    "  - Up to 2 VMs (Virtual Machines) per subscription, including those deployed in the cloud.\n",
    "  - 1-2 sockets on a physical server.\n",
    "- High density subscriptions cover:\n",
    "  - An unlimited number of VMs.\n",
    "  - 1-2 sockets on a physical server or a virtualization host.\n",
    "- Subscriptions are stackable for physical servers with more than 2 sockets:\n",
    "  - A physical server with 4 sockets would require 2 low density subscriptions or 1 high density subscription.\n",
    "- Every virtualization host must have at least one high density subscription.\n",
    "For cloud deployments:\n",
    "- A single low density subscription can cover up to 2 VMs within the same cloud account or zone.\n",
    "- High density subscriptions allow an unlimited number of VMs in the cloud per socket count.\n",
    "\"\"\"\n"
   ]
  },
  {
   "cell_type": "code",
   "execution_count": null,
   "metadata": {},
   "outputs": [],
   "source": [
    "# now open the prompts.txt and read the text line by line\n",
    "with open('prompts.txt', 'r') as file:\n",
    "    prompts = file.readlines()\n",
    "    # for prompt in prompts:\n",
    "    #    print(prompt)\n",
    "    print(openai_prompt(rules, create_prompt(prompts[0])))"
   ]
  },
  {
   "cell_type": "code",
   "execution_count": null,
   "metadata": {},
   "outputs": [],
   "source": []
  }
 ],
 "metadata": {
  "kernelspec": {
   "display_name": "Python 3",
   "language": "python",
   "name": "python3"
  },
  "language_info": {
   "codemirror_mode": {
    "name": "ipython",
    "version": 3
   },
   "file_extension": ".py",
   "mimetype": "text/x-python",
   "name": "python",
   "nbconvert_exporter": "python",
   "pygments_lexer": "ipython3",
   "version": "3.10.13"
  }
 },
 "nbformat": 4,
 "nbformat_minor": 2
}
